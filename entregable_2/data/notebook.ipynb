{
 "cells": [
  {
   "cell_type": "markdown",
   "id": "b5070c9f-6c70-4d6c-99fe-0a4c53ed886d",
   "metadata": {},
   "source": [
    "# TODO\n",
    "- Transform: 'dry_weight' and 'total_weight', add column 'dry_weight_kg' and 'total_weight_kg'. \n",
    "- Load in new Redshift table."
   ]
  },
  {
   "cell_type": "markdown",
   "id": "984e57b3-57bc-45f6-b951-64bcd983974d",
   "metadata": {},
   "source": [
    "## Spark setup"
   ]
  },
  {
   "cell_type": "code",
   "execution_count": 24,
   "id": "31142458-add0-4695-bcef-9d43cc6f5555",
   "metadata": {},
   "outputs": [],
   "source": [
    "from os import environ\n",
    "from pyspark.sql import SparkSession"
   ]
  },
  {
   "cell_type": "code",
   "execution_count": 25,
   "id": "79f01ffd-9fe5-440d-819f-1f9e62bfe888",
   "metadata": {},
   "outputs": [
    {
     "name": "stdout",
     "output_type": "stream",
     "text": [
      "/home/entregable_2/driver_jdbc/postgresql-42.6.0.jar\n"
     ]
    }
   ],
   "source": [
    "driver_path = environ[\"DRIVER_PATH\"]\n",
    "print(driver_path)\n",
    "\n",
    "spark = SparkSession.builder \\\n",
    "        .master(\"local\") \\\n",
    "        .appName(\"entregable-2\") \\\n",
    "        .config(\"spark.jars\", driver_path) \\\n",
    "        .config(\"spark.executor.extraClassPath\", driver_path) \\\n",
    "        .getOrCreate()"
   ]
  },
  {
   "cell_type": "markdown",
   "id": "38160c98-d0da-4c69-a900-1bf583481c27",
   "metadata": {
    "tags": []
   },
   "source": [
    "## Lectura de datos de la API en formato JSON \n",
    "\n",
    "Los datos tienen la siguiente estructura\n",
    "\n",
    "```json\n",
    "[\n",
    "    {dato1},\n",
    "    {dato2},\n",
    "    ...,\n",
    "    {datoN}\n",
    "]\n",
    "```\n",
    "\n",
    "Activamos la opción [multiline](https://sparkbyexamples.com/pyspark/pyspark-read-json-file-into-dataframe/#read-json-multiline) para que Spark pueda armar el DataFrame correctamente. "
   ]
  },
  {
   "cell_type": "code",
   "execution_count": 27,
   "id": "6675a081-f0b5-4af0-8f1e-85065b4ba5f3",
   "metadata": {},
   "outputs": [],
   "source": [
    "df = spark.read.option(\"multiline\", \"true\").json(\"api/motorcycles.json\")"
   ]
  },
  {
   "cell_type": "markdown",
   "id": "f8e2c92f-c608-4996-9c90-b152cc492c41",
   "metadata": {
    "tags": []
   },
   "source": [
    "## Exploración de los datos"
   ]
  },
  {
   "cell_type": "markdown",
   "id": "db345701-ab68-42d5-bea4-39a187c50da1",
   "metadata": {},
   "source": [
    "Una posible mejora del entregable 1 era:\n",
    "\n",
    "- El schema puede variar según el fabricante. Podríamos obtener todas las características disponibles en los datos extraídos y definir un schema con todas las columnas posibles para la tabla de Redshift en lugar de priozar un subconjunto de ellas.\n",
    "\n",
    "La tabla creada en la entrega anterior tiene 24 columnas:\n",
    "\n",
    "```\n",
    "1 make\n",
    "2 model\n",
    "3 year\n",
    "4 type\n",
    "5 displacement\n",
    "6 engine\n",
    "7 power\n",
    "8 top_speed\n",
    "9 compression\n",
    "10 bore_stroke\n",
    "11 cooling\n",
    "12 fuel_consumption\n",
    "13 emission\n",
    "14 front_suspension\n",
    "15 rear_suspension\n",
    "16 front_tire\n",
    "17 rear_tire\n",
    "18 front_brakes\n",
    "19 rear_brakes\n",
    "20 dry_weight\n",
    "21 total_height\n",
    "22 total_length\n",
    "23 total_width\n",
    "24 starter\n",
    "```\n",
    "\n",
    "Veamos lo que nos dice Spark."
   ]
  },
  {
   "cell_type": "code",
   "execution_count": 46,
   "id": "50098805-7de9-443f-bb06-35e645c0a24f",
   "metadata": {},
   "outputs": [
    {
     "name": "stdout",
     "output_type": "stream",
     "text": [
      "# columnas = 41\n"
     ]
    }
   ],
   "source": [
    "df_cols = df.columns\n",
    "\n",
    "print(f\"# columnas = {len(df_cols)}\")"
   ]
  },
  {
   "cell_type": "markdown",
   "id": "2fe8eaaa-ef87-49fc-8044-35ffde6c461d",
   "metadata": {
    "tags": []
   },
   "source": [
    "Esto nos dice que Spark fue capaz de entender la estructura de los datos desde la carga. El DataFrame tiene un método más cómodo para visualizar el schema completo"
   ]
  },
  {
   "cell_type": "code",
   "execution_count": 38,
   "id": "c5c92156-5a2b-4b55-86a2-e610d60594a2",
   "metadata": {},
   "outputs": [
    {
     "name": "stdout",
     "output_type": "stream",
     "text": [
      "root\n",
      " |-- bore_stroke: string (nullable = true)\n",
      " |-- clutch: string (nullable = true)\n",
      " |-- compression: string (nullable = true)\n",
      " |-- cooling: string (nullable = true)\n",
      " |-- displacement: string (nullable = true)\n",
      " |-- dry_weight: string (nullable = true)\n",
      " |-- emission: string (nullable = true)\n",
      " |-- engine: string (nullable = true)\n",
      " |-- frame: string (nullable = true)\n",
      " |-- front_brakes: string (nullable = true)\n",
      " |-- front_suspension: string (nullable = true)\n",
      " |-- front_tire: string (nullable = true)\n",
      " |-- front_wheel_travel: string (nullable = true)\n",
      " |-- fuel_capacity: string (nullable = true)\n",
      " |-- fuel_consumption: string (nullable = true)\n",
      " |-- fuel_control: string (nullable = true)\n",
      " |-- fuel_system: string (nullable = true)\n",
      " |-- gearbox: string (nullable = true)\n",
      " |-- ground_clearance: string (nullable = true)\n",
      " |-- ignition: string (nullable = true)\n",
      " |-- lubrication: string (nullable = true)\n",
      " |-- make: string (nullable = true)\n",
      " |-- model: string (nullable = true)\n",
      " |-- power: string (nullable = true)\n",
      " |-- rear_brakes: string (nullable = true)\n",
      " |-- rear_suspension: string (nullable = true)\n",
      " |-- rear_tire: string (nullable = true)\n",
      " |-- rear_wheel_travel: string (nullable = true)\n",
      " |-- seat_height: string (nullable = true)\n",
      " |-- starter: string (nullable = true)\n",
      " |-- top_speed: string (nullable = true)\n",
      " |-- torque: string (nullable = true)\n",
      " |-- total_height: string (nullable = true)\n",
      " |-- total_length: string (nullable = true)\n",
      " |-- total_weight: string (nullable = true)\n",
      " |-- total_width: string (nullable = true)\n",
      " |-- transmission: string (nullable = true)\n",
      " |-- type: string (nullable = true)\n",
      " |-- valves_per_cylinder: string (nullable = true)\n",
      " |-- wheelbase: string (nullable = true)\n",
      " |-- year: string (nullable = true)\n",
      "\n"
     ]
    }
   ],
   "source": [
    "df.printSchema()"
   ]
  },
  {
   "cell_type": "markdown",
   "id": "bb69f5ac-f6c8-43a3-9444-bf32029395ea",
   "metadata": {},
   "source": [
    "¡Genial! Ahora veamos algunos valores"
   ]
  },
  {
   "cell_type": "code",
   "execution_count": 51,
   "id": "7443bb1a-7e53-4310-9647-d68790a4c4aa",
   "metadata": {},
   "outputs": [
    {
     "name": "stdout",
     "output_type": "stream",
     "text": [
      "+--------------------+------+-----------+-------+--------------------+--------------------+--------------------+--------------------+-----+------------+----------------+----------+------------------+-------------+--------------------+------------+-----------+-------+----------------+--------+-----------+-------+-----------------+--------------------+--------------------+---------------+----------+-----------------+-----------+---------------+--------------------+------+--------------------+--------------------+------------+--------------------+------------+-----+-------------------+---------+----+\n",
      "|         bore_stroke|clutch|compression|cooling|        displacement|          dry_weight|            emission|              engine|frame|front_brakes|front_suspension|front_tire|front_wheel_travel|fuel_capacity|    fuel_consumption|fuel_control|fuel_system|gearbox|ground_clearance|ignition|lubrication|   make|            model|               power|         rear_brakes|rear_suspension| rear_tire|rear_wheel_travel|seat_height|        starter|           top_speed|torque|        total_height|        total_length|total_weight|         total_width|transmission| type|valves_per_cylinder|wheelbase|year|\n",
      "+--------------------+------+-----------+-------+--------------------+--------------------+--------------------+--------------------+-----+------------+----------------+----------+------------------+-------------+--------------------+------------+-----------+-------+----------------+--------+-----------+-------+-----------------+--------------------+--------------------+---------------+----------+-----------------+-----------+---------------+--------------------+------+--------------------+--------------------+------------+--------------------+------------+-----+-------------------+---------+----+\n",
      "|52.4 x 49.5 mm (2...|  null|      8.8:1|    Air|110.0 ccm (6.71 c...|99.0 kg (218.3 po...|48.7 CO2 g/km. (C...|Single cylinder, ...| null| Single disc| Telescopic fork|130/60-13 |              null|         null|2.10 litres/100 k...|        null|       null|   null|            null|    null|       null|Motomel|Blitz 110 Tunning|7.1 HP (5.2  kW))...|Expanding brake (...|   Single shock|130/60-13 |             null|       null|Electric & kick|75.0 km/h (46.6 mph)|  null|1068 mm (42.0 inc...|1900 mm (74.8 inc...|        null|660 mm (26.0 inches)|        null|Sport|               null|     null|2020|\n",
      "+--------------------+------+-----------+-------+--------------------+--------------------+--------------------+--------------------+-----+------------+----------------+----------+------------------+-------------+--------------------+------------+-----------+-------+----------------+--------+-----------+-------+-----------------+--------------------+--------------------+---------------+----------+-----------------+-----------+---------------+--------------------+------+--------------------+--------------------+------------+--------------------+------------+-----+-------------------+---------+----+\n",
      "only showing top 1 row\n",
      "\n"
     ]
    }
   ],
   "source": [
    "df.show(1)"
   ]
  },
  {
   "cell_type": "markdown",
   "id": "8eb941f5-2b63-46cc-a72d-9290e23b34c0",
   "metadata": {},
   "source": [
    "Ilegible. Al parecer es un problema de Jupyter al formatear la tabla que imprime Spark. Probemos jugando con algunos parámetros de [show](https://spark.apache.org/docs/3.2.0/api/python/reference/api/pyspark.sql.DataFrame.show.html)"
   ]
  },
  {
   "cell_type": "code",
   "execution_count": 52,
   "id": "3220b24c-4f0d-4578-be09-948e76b9d198",
   "metadata": {},
   "outputs": [
    {
     "name": "stdout",
     "output_type": "stream",
     "text": [
      "-RECORD 0--------------------------------------------------------------\n",
      " bore_stroke         | 52.4 x 49.5 mm (2.1 x 1.9 inches)               \n",
      " clutch              | null                                            \n",
      " compression         | 8.8:1                                           \n",
      " cooling             | Air                                             \n",
      " displacement        | 110.0 ccm (6.71 cubic inches)                   \n",
      " dry_weight          | 99.0 kg (218.3 pounds)                          \n",
      " emission            | 48.7 CO2 g/km. (CO2 - Carbon dioxide emission)  \n",
      " engine              | Single cylinder, four-stroke                    \n",
      " frame               | null                                            \n",
      " front_brakes        | Single disc                                     \n",
      " front_suspension    | Telescopic fork                                 \n",
      " front_tire          | 130/60-13                                       \n",
      " front_wheel_travel  | null                                            \n",
      " fuel_capacity       | null                                            \n",
      " fuel_consumption    | 2.10 litres/100 km (47.6 km/l or 112.01 mpg)    \n",
      " fuel_control        | null                                            \n",
      " fuel_system         | null                                            \n",
      " gearbox             | null                                            \n",
      " ground_clearance    | null                                            \n",
      " ignition            | null                                            \n",
      " lubrication         | null                                            \n",
      " make                | Motomel                                         \n",
      " model               | Blitz 110 Tunning                               \n",
      " power               | 7.1 HP (5.2  kW)) @ 8500 RPM                    \n",
      " rear_brakes         | Expanding brake (drum brake)                    \n",
      " rear_suspension     | Single shock                                    \n",
      " rear_tire           | 130/60-13                                       \n",
      " rear_wheel_travel   | null                                            \n",
      " seat_height         | null                                            \n",
      " starter             | Electric & kick                                 \n",
      " top_speed           | 75.0 km/h (46.6 mph)                            \n",
      " torque              | null                                            \n",
      " total_height        | 1068 mm (42.0 inches)                           \n",
      " total_length        | 1900 mm (74.8 inches)                           \n",
      " total_weight        | null                                            \n",
      " total_width         | 660 mm (26.0 inches)                            \n",
      " transmission        | null                                            \n",
      " type                | Sport                                           \n",
      " valves_per_cylinder | null                                            \n",
      " wheelbase           | null                                            \n",
      " year                | 2020                                            \n",
      "only showing top 1 row\n",
      "\n"
     ]
    }
   ],
   "source": [
    "df.show(n=1, truncate=False, vertical=True)"
   ]
  },
  {
   "cell_type": "markdown",
   "id": "e95fa2ce-8088-4792-ab7e-b2de614455cf",
   "metadata": {},
   "source": [
    "Mucho mejor. Vemos que algunas columnas son `null`, lo que tiene sentido porque algunos fabricantes incluyen datos que otros no.\n",
    "\n",
    "Busquemos filas duplicadas. A la cantidad total de filas vamos a restarle la cantidad de filas distintas"
   ]
  },
  {
   "cell_type": "code",
   "execution_count": 65,
   "id": "2f757adc-52a7-4465-9db5-e3140bbccee4",
   "metadata": {
    "tags": []
   },
   "outputs": [
    {
     "name": "stdout",
     "output_type": "stream",
     "text": [
      "750\n"
     ]
    }
   ],
   "source": [
    "total_rows = df.select(df_cols).count()\n",
    "print(total_rows)"
   ]
  },
  {
   "cell_type": "code",
   "execution_count": 66,
   "id": "a36d4344-7c02-4c72-875b-a581dd726519",
   "metadata": {
    "tags": []
   },
   "outputs": [
    {
     "name": "stdout",
     "output_type": "stream",
     "text": [
      "750\n"
     ]
    }
   ],
   "source": [
    "total_distinct_rows = df.select(df_cols).distinct().count()\n",
    "print(total_distinct_rows)"
   ]
  },
  {
   "cell_type": "code",
   "execution_count": 67,
   "id": "c351f88c-7948-4856-a0c0-4b7374f79a35",
   "metadata": {},
   "outputs": [
    {
     "name": "stdout",
     "output_type": "stream",
     "text": [
      "0\n"
     ]
    }
   ],
   "source": [
    "repeated_rows = total_rows - total_distinct_rows\n",
    "print(repeated_rows)"
   ]
  },
  {
   "cell_type": "markdown",
   "id": "a4576d89-a425-4bf9-9dac-6c7e5f1448e1",
   "metadata": {},
   "source": [
    "Por lo que no tenemos datos repetidos."
   ]
  },
  {
   "cell_type": "markdown",
   "id": "72e0b5df-58b3-4738-ae1a-d5db14e01f30",
   "metadata": {
    "tags": []
   },
   "source": [
    "## Transformación de los datos\n",
    "\n",
    "Si volvemos al schema del DataFrame vamos a notar que la columna `year` es de tipo `string`. Hagamos, por conveniencia, que sea de tipo `integer`. Para eso vamos a usar la función `col` de PySpark"
   ]
  },
  {
   "cell_type": "code",
   "execution_count": 79,
   "id": "bc878525-87ec-469c-a03f-a0e8e81e727f",
   "metadata": {},
   "outputs": [
    {
     "name": "stdout",
     "output_type": "stream",
     "text": [
      "StringType()\n",
      "IntegerType()\n"
     ]
    }
   ],
   "source": [
    "from pyspark.sql.functions import col\n",
    "\n",
    "transformed_df = df.withColumn(\"year\", col(\"year\").cast(\"Integer\"))\n",
    "print(df.schema[\"year\"].dataType)\n",
    "print(transformed_df.schema[\"year\"].dataType)"
   ]
  },
  {
   "cell_type": "markdown",
   "id": "a89954ce-1b45-4dce-8d13-08cd8308c3d0",
   "metadata": {},
   "source": [
    "El nuevo DataFrame `transformed_df` tiene el mismo schema que el anterior salvo por la columna `year` que ahora es un `integer`."
   ]
  },
  {
   "cell_type": "code",
   "execution_count": 3,
   "id": "a5907f7a-be8d-4301-aa5d-c125ea25363e",
   "metadata": {},
   "outputs": [],
   "source": [
    "# Query Redshift using Spark SQL\n",
    "query = f\"select * from {environ['REDSHIFT_CODER_SCHEMA']}.motorcycles\"\n",
    "data = spark.read \\\n",
    "    .format(\"jdbc\") \\\n",
    "    .option(\"url\", f\"jdbc:postgresql://{environ['REDSHIFT_CODER_HOST']}:{environ['REDSHIFT_CODER_PORT']}/{environ['REDSHIFT_CODER_DB']}\") \\\n",
    "    .option(\"dbtable\", f\"({query}) as tmp_table\") \\\n",
    "    .option(\"user\", environ['REDSHIFT_CODER_USER']) \\\n",
    "    .option(\"password\", environ['REDSHIFT_CODER_PASSWORD']) \\\n",
    "    .option(\"driver\", \"org.postgresql.Driver\") \\\n",
    "    .load()"
   ]
  }
 ],
 "metadata": {
  "kernelspec": {
   "display_name": "Python 3 (ipykernel)",
   "language": "python",
   "name": "python3"
  },
  "language_info": {
   "codemirror_mode": {
    "name": "ipython",
    "version": 3
   },
   "file_extension": ".py",
   "mimetype": "text/x-python",
   "name": "python",
   "nbconvert_exporter": "python",
   "pygments_lexer": "ipython3",
   "version": "3.10.6"
  }
 },
 "nbformat": 4,
 "nbformat_minor": 5
}
